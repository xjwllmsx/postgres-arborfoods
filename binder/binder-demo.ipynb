{
 "cells": [
  {
   "cell_type": "markdown",
   "id": "dc526f7d",
   "metadata": {},
   "source": [
    "# Arbor Foods Trading Co.\n"
   ]
  },
  {
   "cell_type": "markdown",
   "id": "e80c0fbc",
   "metadata": {},
   "source": [
    "**Note:** This is a SQLite-powered demo version of the Arbor Foods project.  \n",
    "Some PostgreSQL-specific syntax has been modified for compatibility.\n"
   ]
  },
  {
   "cell_type": "markdown",
   "id": "4c30d619",
   "metadata": {},
   "source": [
    "## Load SQL extension for IPython and connect to database\n",
    "\n",
    "The following lines of code will provide the ability to write SQL queries in the Jupyter Notebook:\n"
   ]
  },
  {
   "cell_type": "code",
   "execution_count": 1,
   "id": "01b624b9",
   "metadata": {},
   "outputs": [],
   "source": [
    "# This command loads the sql extension for IPython\n",
    "%load_ext sql\n",
    "\n",
    "# This command establishes a connection to the Arbor Foods database\n",
    "%sql sqlite:///arborfoods.db"
   ]
  },
  {
   "cell_type": "markdown",
   "id": "3cfc7ca9",
   "metadata": {},
   "source": [
    "The below removes any views that were created during a previous run of this notebook.\n"
   ]
  },
  {
   "cell_type": "code",
   "execution_count": 2,
   "id": "1fd00094",
   "metadata": {},
   "outputs": [
    {
     "name": "stdout",
     "output_type": "stream",
     "text": [
      " * sqlite:///arborfoods.db\n",
      "Done.\n",
      "Done.\n",
      "Done.\n"
     ]
    },
    {
     "data": {
      "text/plain": [
       "[]"
      ]
     },
     "execution_count": 2,
     "metadata": {},
     "output_type": "execute_result"
    }
   ],
   "source": [
    "%%sql\n",
    "DROP VIEW customer_orders;\n",
    "DROP VIEW detailed_orders;\n",
    "DROP VIEW employee_orders;"
   ]
  },
  {
   "cell_type": "markdown",
   "id": "3784574a",
   "metadata": {},
   "source": [
    "## Getting to Know the Data\n"
   ]
  },
  {
   "cell_type": "markdown",
   "id": "5f4077a8",
   "metadata": {},
   "source": [
    "### List all tables and views\n",
    "\n",
    "To obtain a list of all tables and views in the SQLite database, the built-in `sqlite_master` table can be queried:\n"
   ]
  },
  {
   "cell_type": "code",
   "execution_count": 3,
   "id": "ec7dc15e",
   "metadata": {},
   "outputs": [
    {
     "name": "stdout",
     "output_type": "stream",
     "text": [
      " * sqlite:///arborfoods.db\n",
      "Done.\n"
     ]
    },
    {
     "data": {
      "text/html": [
       "<table>\n",
       "    <thead>\n",
       "        <tr>\n",
       "            <th>name</th>\n",
       "            <th>type</th>\n",
       "        </tr>\n",
       "    </thead>\n",
       "    <tbody>\n",
       "        <tr>\n",
       "            <td>suppliers</td>\n",
       "            <td>table</td>\n",
       "        </tr>\n",
       "        <tr>\n",
       "            <td>customers</td>\n",
       "            <td>table</td>\n",
       "        </tr>\n",
       "        <tr>\n",
       "            <td>territories</td>\n",
       "            <td>table</td>\n",
       "        </tr>\n",
       "        <tr>\n",
       "            <td>region</td>\n",
       "            <td>table</td>\n",
       "        </tr>\n",
       "        <tr>\n",
       "            <td>us_states</td>\n",
       "            <td>table</td>\n",
       "        </tr>\n",
       "        <tr>\n",
       "            <td>customer_demographics</td>\n",
       "            <td>table</td>\n",
       "        </tr>\n",
       "        <tr>\n",
       "            <td>customer_customer_demo</td>\n",
       "            <td>table</td>\n",
       "        </tr>\n",
       "        <tr>\n",
       "            <td>employees</td>\n",
       "            <td>table</td>\n",
       "        </tr>\n",
       "        <tr>\n",
       "            <td>employee_territories</td>\n",
       "            <td>table</td>\n",
       "        </tr>\n",
       "        <tr>\n",
       "            <td>orders</td>\n",
       "            <td>table</td>\n",
       "        </tr>\n",
       "        <tr>\n",
       "            <td>order_details</td>\n",
       "            <td>table</td>\n",
       "        </tr>\n",
       "        <tr>\n",
       "            <td>products</td>\n",
       "            <td>table</td>\n",
       "        </tr>\n",
       "        <tr>\n",
       "            <td>shippers</td>\n",
       "            <td>table</td>\n",
       "        </tr>\n",
       "        <tr>\n",
       "            <td>categories</td>\n",
       "            <td>table</td>\n",
       "        </tr>\n",
       "    </tbody>\n",
       "</table>"
      ],
      "text/plain": [
       "[('suppliers', 'table'),\n",
       " ('customers', 'table'),\n",
       " ('territories', 'table'),\n",
       " ('region', 'table'),\n",
       " ('us_states', 'table'),\n",
       " ('customer_demographics', 'table'),\n",
       " ('customer_customer_demo', 'table'),\n",
       " ('employees', 'table'),\n",
       " ('employee_territories', 'table'),\n",
       " ('orders', 'table'),\n",
       " ('order_details', 'table'),\n",
       " ('products', 'table'),\n",
       " ('shippers', 'table'),\n",
       " ('categories', 'table')]"
      ]
     },
     "execution_count": 3,
     "metadata": {},
     "output_type": "execute_result"
    }
   ],
   "source": [
    "%%sql\n",
    "SELECT name,\n",
    "       type\n",
    "  FROM sqlite_master\n",
    " WHERE type IN ('table', 'view')\n",
    "   AND name NOT LIKE 'sqlite_%';"
   ]
  },
  {
   "cell_type": "markdown",
   "id": "ffce3e27",
   "metadata": {},
   "source": [
    "## Create Views\n",
    "\n",
    "I'll be creating views that will help with the rest of the project.\n"
   ]
  },
  {
   "cell_type": "markdown",
   "id": "206103f5",
   "metadata": {},
   "source": [
    "### A view with order and customer information\n",
    "\n",
    "First, combining the `orders` and `customers` tables to get more detailed information about each order:\n"
   ]
  },
  {
   "cell_type": "code",
   "execution_count": 4,
   "id": "804373b9",
   "metadata": {},
   "outputs": [
    {
     "name": "stdout",
     "output_type": "stream",
     "text": [
      " * sqlite:///arborfoods.db\n",
      "Done.\n"
     ]
    },
    {
     "data": {
      "text/plain": [
       "[]"
      ]
     },
     "execution_count": 4,
     "metadata": {},
     "output_type": "execute_result"
    }
   ],
   "source": [
    "%%sql\n",
    "CREATE VIEW customer_orders AS\n",
    "SELECT o.order_id,\n",
    "       c.company_name,\n",
    "       c.customer_id, \n",
    "       c.contact_name,\n",
    "       o.order_date\n",
    "  FROM orders AS o\n",
    "  JOIN customers AS c\n",
    "    ON c.customer_id = o.customer_id;"
   ]
  },
  {
   "cell_type": "markdown",
   "id": "5e87628d",
   "metadata": {},
   "source": [
    "The first 10 rows of the `customer_orders` view:\n"
   ]
  },
  {
   "cell_type": "code",
   "execution_count": 5,
   "id": "a8121a2b",
   "metadata": {},
   "outputs": [
    {
     "name": "stdout",
     "output_type": "stream",
     "text": [
      " * sqlite:///arborfoods.db\n",
      "Done.\n"
     ]
    },
    {
     "data": {
      "text/html": [
       "<table>\n",
       "    <thead>\n",
       "        <tr>\n",
       "            <th>order_id</th>\n",
       "            <th>company_name</th>\n",
       "            <th>customer_id</th>\n",
       "            <th>contact_name</th>\n",
       "            <th>order_date</th>\n",
       "        </tr>\n",
       "    </thead>\n",
       "    <tbody>\n",
       "        <tr>\n",
       "            <td>10248</td>\n",
       "            <td>Vins et alcools Chevalier</td>\n",
       "            <td>VINET</td>\n",
       "            <td>Paul Henriot</td>\n",
       "            <td>1996-07-04</td>\n",
       "        </tr>\n",
       "        <tr>\n",
       "            <td>10249</td>\n",
       "            <td>Toms Spezialitäten</td>\n",
       "            <td>TOMSP</td>\n",
       "            <td>Karin Josephs</td>\n",
       "            <td>1996-07-05</td>\n",
       "        </tr>\n",
       "        <tr>\n",
       "            <td>10250</td>\n",
       "            <td>Hanari Carnes</td>\n",
       "            <td>HANAR</td>\n",
       "            <td>Mario Pontes</td>\n",
       "            <td>1996-07-08</td>\n",
       "        </tr>\n",
       "        <tr>\n",
       "            <td>10251</td>\n",
       "            <td>Victuailles en stock</td>\n",
       "            <td>VICTE</td>\n",
       "            <td>Mary Saveley</td>\n",
       "            <td>1996-07-08</td>\n",
       "        </tr>\n",
       "        <tr>\n",
       "            <td>10252</td>\n",
       "            <td>Suprêmes délices</td>\n",
       "            <td>SUPRD</td>\n",
       "            <td>Pascale Cartrain</td>\n",
       "            <td>1996-07-09</td>\n",
       "        </tr>\n",
       "        <tr>\n",
       "            <td>10253</td>\n",
       "            <td>Hanari Carnes</td>\n",
       "            <td>HANAR</td>\n",
       "            <td>Mario Pontes</td>\n",
       "            <td>1996-07-10</td>\n",
       "        </tr>\n",
       "        <tr>\n",
       "            <td>10254</td>\n",
       "            <td>Chop-suey Chinese</td>\n",
       "            <td>CHOPS</td>\n",
       "            <td>Yang Wang</td>\n",
       "            <td>1996-07-11</td>\n",
       "        </tr>\n",
       "        <tr>\n",
       "            <td>10255</td>\n",
       "            <td>Richter Supermarkt</td>\n",
       "            <td>RICSU</td>\n",
       "            <td>Michael Holz</td>\n",
       "            <td>1996-07-12</td>\n",
       "        </tr>\n",
       "        <tr>\n",
       "            <td>10256</td>\n",
       "            <td>Wellington Importadora</td>\n",
       "            <td>WELLI</td>\n",
       "            <td>Paula Parente</td>\n",
       "            <td>1996-07-15</td>\n",
       "        </tr>\n",
       "        <tr>\n",
       "            <td>10257</td>\n",
       "            <td>HILARION-Abastos</td>\n",
       "            <td>HILAA</td>\n",
       "            <td>Carlos Hernández</td>\n",
       "            <td>1996-07-16</td>\n",
       "        </tr>\n",
       "    </tbody>\n",
       "</table>"
      ],
      "text/plain": [
       "[(10248, 'Vins et alcools Chevalier', 'VINET', 'Paul Henriot', '1996-07-04'),\n",
       " (10249, 'Toms Spezialitäten', 'TOMSP', 'Karin Josephs', '1996-07-05'),\n",
       " (10250, 'Hanari Carnes', 'HANAR', 'Mario Pontes', '1996-07-08'),\n",
       " (10251, 'Victuailles en stock', 'VICTE', 'Mary Saveley', '1996-07-08'),\n",
       " (10252, 'Suprêmes délices', 'SUPRD', 'Pascale Cartrain', '1996-07-09'),\n",
       " (10253, 'Hanari Carnes', 'HANAR', 'Mario Pontes', '1996-07-10'),\n",
       " (10254, 'Chop-suey Chinese', 'CHOPS', 'Yang Wang', '1996-07-11'),\n",
       " (10255, 'Richter Supermarkt', 'RICSU', 'Michael Holz', '1996-07-12'),\n",
       " (10256, 'Wellington Importadora', 'WELLI', 'Paula Parente', '1996-07-15'),\n",
       " (10257, 'HILARION-Abastos', 'HILAA', 'Carlos Hernández', '1996-07-16')]"
      ]
     },
     "execution_count": 5,
     "metadata": {},
     "output_type": "execute_result"
    }
   ],
   "source": [
    "%%sql\n",
    "SELECT *\n",
    "  FROM customer_orders\n",
    " LIMIT 10;"
   ]
  },
  {
   "cell_type": "markdown",
   "id": "792d7a10",
   "metadata": {},
   "source": [
    "### A view with detailed order information\n"
   ]
  },
  {
   "cell_type": "markdown",
   "id": "89d6b491",
   "metadata": {},
   "source": [
    "The next view will combine the `order_details`, `products`, and `orders` tables to get detailed order information.\n"
   ]
  },
  {
   "cell_type": "code",
   "execution_count": 6,
   "id": "a80319dd",
   "metadata": {},
   "outputs": [
    {
     "name": "stdout",
     "output_type": "stream",
     "text": [
      " * sqlite:///arborfoods.db\n",
      "Done.\n"
     ]
    },
    {
     "data": {
      "text/plain": [
       "[]"
      ]
     },
     "execution_count": 6,
     "metadata": {},
     "output_type": "execute_result"
    }
   ],
   "source": [
    "%%sql\n",
    "CREATE VIEW detailed_orders AS \n",
    "SELECT o.order_id,\n",
    "       o.order_date,\n",
    "       p.product_name,\n",
    "       p.product_id,\n",
    "       od.quantity,\n",
    "       od.unit_price, \n",
    "       od.discount\n",
    "  FROM orders AS o\n",
    "  JOIN order_details AS od\n",
    "    ON o.order_id = od.order_id\n",
    "  JOIN products AS p\n",
    "    ON od.product_id = p.product_id;"
   ]
  },
  {
   "cell_type": "markdown",
   "id": "6048871a",
   "metadata": {},
   "source": [
    "The first 10 rows of the newly created `detailed_orders` view:\n"
   ]
  },
  {
   "cell_type": "code",
   "execution_count": 7,
   "id": "eb8f442c",
   "metadata": {},
   "outputs": [
    {
     "name": "stdout",
     "output_type": "stream",
     "text": [
      " * sqlite:///arborfoods.db\n",
      "Done.\n"
     ]
    },
    {
     "data": {
      "text/html": [
       "<table>\n",
       "    <thead>\n",
       "        <tr>\n",
       "            <th>order_id</th>\n",
       "            <th>order_date</th>\n",
       "            <th>product_name</th>\n",
       "            <th>product_id</th>\n",
       "            <th>quantity</th>\n",
       "            <th>unit_price</th>\n",
       "            <th>discount</th>\n",
       "        </tr>\n",
       "    </thead>\n",
       "    <tbody>\n",
       "        <tr>\n",
       "            <td>10248</td>\n",
       "            <td>1996-07-04</td>\n",
       "            <td>Queso Cabrales</td>\n",
       "            <td>11</td>\n",
       "            <td>12</td>\n",
       "            <td>14.0</td>\n",
       "            <td>0.0</td>\n",
       "        </tr>\n",
       "        <tr>\n",
       "            <td>10248</td>\n",
       "            <td>1996-07-04</td>\n",
       "            <td>Singaporean Hokkien Fried Mee</td>\n",
       "            <td>42</td>\n",
       "            <td>10</td>\n",
       "            <td>9.8</td>\n",
       "            <td>0.0</td>\n",
       "        </tr>\n",
       "        <tr>\n",
       "            <td>10248</td>\n",
       "            <td>1996-07-04</td>\n",
       "            <td>Mozzarella di Giovanni</td>\n",
       "            <td>72</td>\n",
       "            <td>5</td>\n",
       "            <td>34.8</td>\n",
       "            <td>0.0</td>\n",
       "        </tr>\n",
       "        <tr>\n",
       "            <td>10249</td>\n",
       "            <td>1996-07-05</td>\n",
       "            <td>Tofu</td>\n",
       "            <td>14</td>\n",
       "            <td>9</td>\n",
       "            <td>18.6</td>\n",
       "            <td>0.0</td>\n",
       "        </tr>\n",
       "        <tr>\n",
       "            <td>10249</td>\n",
       "            <td>1996-07-05</td>\n",
       "            <td>Manjimup Dried Apples</td>\n",
       "            <td>51</td>\n",
       "            <td>40</td>\n",
       "            <td>42.4</td>\n",
       "            <td>0.0</td>\n",
       "        </tr>\n",
       "        <tr>\n",
       "            <td>10250</td>\n",
       "            <td>1996-07-08</td>\n",
       "            <td>Jack&#x27;s New England Clam Chowder</td>\n",
       "            <td>41</td>\n",
       "            <td>10</td>\n",
       "            <td>7.7</td>\n",
       "            <td>0.0</td>\n",
       "        </tr>\n",
       "        <tr>\n",
       "            <td>10250</td>\n",
       "            <td>1996-07-08</td>\n",
       "            <td>Manjimup Dried Apples</td>\n",
       "            <td>51</td>\n",
       "            <td>35</td>\n",
       "            <td>42.4</td>\n",
       "            <td>0.15</td>\n",
       "        </tr>\n",
       "        <tr>\n",
       "            <td>10250</td>\n",
       "            <td>1996-07-08</td>\n",
       "            <td>Louisiana Fiery Hot Pepper Sauce</td>\n",
       "            <td>65</td>\n",
       "            <td>15</td>\n",
       "            <td>16.8</td>\n",
       "            <td>0.15</td>\n",
       "        </tr>\n",
       "        <tr>\n",
       "            <td>10251</td>\n",
       "            <td>1996-07-08</td>\n",
       "            <td>Gustaf&#x27;s Knäckebröd</td>\n",
       "            <td>22</td>\n",
       "            <td>6</td>\n",
       "            <td>16.8</td>\n",
       "            <td>0.05</td>\n",
       "        </tr>\n",
       "        <tr>\n",
       "            <td>10251</td>\n",
       "            <td>1996-07-08</td>\n",
       "            <td>Ravioli Angelo</td>\n",
       "            <td>57</td>\n",
       "            <td>15</td>\n",
       "            <td>15.6</td>\n",
       "            <td>0.05</td>\n",
       "        </tr>\n",
       "    </tbody>\n",
       "</table>"
      ],
      "text/plain": [
       "[(10248, '1996-07-04', 'Queso Cabrales', 11, 12, 14.0, 0.0),\n",
       " (10248, '1996-07-04', 'Singaporean Hokkien Fried Mee', 42, 10, 9.8, 0.0),\n",
       " (10248, '1996-07-04', 'Mozzarella di Giovanni', 72, 5, 34.8, 0.0),\n",
       " (10249, '1996-07-05', 'Tofu', 14, 9, 18.6, 0.0),\n",
       " (10249, '1996-07-05', 'Manjimup Dried Apples', 51, 40, 42.4, 0.0),\n",
       " (10250, '1996-07-08', \"Jack's New England Clam Chowder\", 41, 10, 7.7, 0.0),\n",
       " (10250, '1996-07-08', 'Manjimup Dried Apples', 51, 35, 42.4, 0.15),\n",
       " (10250, '1996-07-08', 'Louisiana Fiery Hot Pepper Sauce', 65, 15, 16.8, 0.15),\n",
       " (10251, '1996-07-08', \"Gustaf's Knäckebröd\", 22, 6, 16.8, 0.05),\n",
       " (10251, '1996-07-08', 'Ravioli Angelo', 57, 15, 15.6, 0.05)]"
      ]
     },
     "execution_count": 7,
     "metadata": {},
     "output_type": "execute_result"
    }
   ],
   "source": [
    "%%sql\n",
    "SELECT *\n",
    "  FROM detailed_orders\n",
    " LIMIT 10;"
   ]
  },
  {
   "cell_type": "markdown",
   "id": "d078e606",
   "metadata": {},
   "source": [
    "### A view with employee and order information\n"
   ]
  },
  {
   "cell_type": "markdown",
   "id": "61e7c658",
   "metadata": {},
   "source": [
    "Combining the `employees` and `orders` tables will provide information on which employee was responsible for each order.\n"
   ]
  },
  {
   "cell_type": "code",
   "execution_count": 8,
   "id": "5fb47c50",
   "metadata": {},
   "outputs": [
    {
     "name": "stdout",
     "output_type": "stream",
     "text": [
      " * sqlite:///arborfoods.db\n",
      "Done.\n"
     ]
    },
    {
     "data": {
      "text/plain": [
       "[]"
      ]
     },
     "execution_count": 8,
     "metadata": {},
     "output_type": "execute_result"
    }
   ],
   "source": [
    "%%sql\n",
    "CREATE VIEW employee_orders AS\n",
    "SELECT e.employee_id,\n",
    "       e.first_name || ' ' || e.last_name AS employee_name,\n",
    "       o.order_id, \n",
    "       o.order_date\n",
    "  FROM employees AS e\n",
    "  JOIN orders AS o\n",
    "    ON e.employee_id = o.employee_id;"
   ]
  },
  {
   "cell_type": "markdown",
   "id": "2c00a711",
   "metadata": {},
   "source": [
    "The first 10 rows of the `employee_orders` view:\n"
   ]
  },
  {
   "cell_type": "code",
   "execution_count": 9,
   "id": "27ab6c19",
   "metadata": {},
   "outputs": [
    {
     "name": "stdout",
     "output_type": "stream",
     "text": [
      " * sqlite:///arborfoods.db\n",
      "Done.\n"
     ]
    },
    {
     "data": {
      "text/html": [
       "<table>\n",
       "    <thead>\n",
       "        <tr>\n",
       "            <th>employee_id</th>\n",
       "            <th>employee_name</th>\n",
       "            <th>order_id</th>\n",
       "            <th>order_date</th>\n",
       "        </tr>\n",
       "    </thead>\n",
       "    <tbody>\n",
       "        <tr>\n",
       "            <td>1</td>\n",
       "            <td>Nancy Davolio</td>\n",
       "            <td>10258</td>\n",
       "            <td>1996-07-17</td>\n",
       "        </tr>\n",
       "        <tr>\n",
       "            <td>1</td>\n",
       "            <td>Nancy Davolio</td>\n",
       "            <td>10270</td>\n",
       "            <td>1996-08-01</td>\n",
       "        </tr>\n",
       "        <tr>\n",
       "            <td>1</td>\n",
       "            <td>Nancy Davolio</td>\n",
       "            <td>10275</td>\n",
       "            <td>1996-08-07</td>\n",
       "        </tr>\n",
       "        <tr>\n",
       "            <td>1</td>\n",
       "            <td>Nancy Davolio</td>\n",
       "            <td>10285</td>\n",
       "            <td>1996-08-20</td>\n",
       "        </tr>\n",
       "        <tr>\n",
       "            <td>1</td>\n",
       "            <td>Nancy Davolio</td>\n",
       "            <td>10292</td>\n",
       "            <td>1996-08-28</td>\n",
       "        </tr>\n",
       "        <tr>\n",
       "            <td>1</td>\n",
       "            <td>Nancy Davolio</td>\n",
       "            <td>10293</td>\n",
       "            <td>1996-08-29</td>\n",
       "        </tr>\n",
       "        <tr>\n",
       "            <td>1</td>\n",
       "            <td>Nancy Davolio</td>\n",
       "            <td>10304</td>\n",
       "            <td>1996-09-12</td>\n",
       "        </tr>\n",
       "        <tr>\n",
       "            <td>1</td>\n",
       "            <td>Nancy Davolio</td>\n",
       "            <td>10306</td>\n",
       "            <td>1996-09-16</td>\n",
       "        </tr>\n",
       "        <tr>\n",
       "            <td>1</td>\n",
       "            <td>Nancy Davolio</td>\n",
       "            <td>10311</td>\n",
       "            <td>1996-09-20</td>\n",
       "        </tr>\n",
       "        <tr>\n",
       "            <td>1</td>\n",
       "            <td>Nancy Davolio</td>\n",
       "            <td>10314</td>\n",
       "            <td>1996-09-25</td>\n",
       "        </tr>\n",
       "    </tbody>\n",
       "</table>"
      ],
      "text/plain": [
       "[(1, 'Nancy Davolio', 10258, '1996-07-17'),\n",
       " (1, 'Nancy Davolio', 10270, '1996-08-01'),\n",
       " (1, 'Nancy Davolio', 10275, '1996-08-07'),\n",
       " (1, 'Nancy Davolio', 10285, '1996-08-20'),\n",
       " (1, 'Nancy Davolio', 10292, '1996-08-28'),\n",
       " (1, 'Nancy Davolio', 10293, '1996-08-29'),\n",
       " (1, 'Nancy Davolio', 10304, '1996-09-12'),\n",
       " (1, 'Nancy Davolio', 10306, '1996-09-16'),\n",
       " (1, 'Nancy Davolio', 10311, '1996-09-20'),\n",
       " (1, 'Nancy Davolio', 10314, '1996-09-25')]"
      ]
     },
     "execution_count": 9,
     "metadata": {},
     "output_type": "execute_result"
    }
   ],
   "source": [
    "%%sql\n",
    "SELECT *\n",
    "  FROM employee_orders\n",
    " LIMIT 10;"
   ]
  },
  {
   "cell_type": "markdown",
   "id": "d72ceeaf",
   "metadata": {},
   "source": [
    "## Ranking Employee Sales Performance\n"
   ]
  },
  {
   "cell_type": "markdown",
   "id": "0b6c0d7c",
   "metadata": {},
   "source": [
    "Ranking employees based on their total sales amount will allow management to recognize and reward top-performing employees, foster a culture of excellence within the organization, as well as identify employees who might be struggling so management can offer the necessary training or resources to help them improve.\n"
   ]
  },
  {
   "cell_type": "markdown",
   "id": "0a14e3e5",
   "metadata": {},
   "source": [
    "The following creates a Common Table Expression (CTE) that calculates the total sales for each employee using the employee_orders view and order_details table. Then, the next command ranks each employee based on their total sales:\n"
   ]
  },
  {
   "cell_type": "code",
   "execution_count": 10,
   "id": "fc910742",
   "metadata": {},
   "outputs": [
    {
     "name": "stdout",
     "output_type": "stream",
     "text": [
      " * sqlite:///arborfoods.db\n",
      "Done.\n"
     ]
    },
    {
     "data": {
      "text/html": [
       "<table>\n",
       "    <thead>\n",
       "        <tr>\n",
       "            <th>Emp ID</th>\n",
       "            <th>Emp Name</th>\n",
       "            <th>Total Sales</th>\n",
       "            <th>Sales Rank</th>\n",
       "        </tr>\n",
       "    </thead>\n",
       "    <tbody>\n",
       "        <tr>\n",
       "            <td>4</td>\n",
       "            <td>Margaret Peacock</td>\n",
       "            <td>232890.85</td>\n",
       "            <td>1</td>\n",
       "        </tr>\n",
       "        <tr>\n",
       "            <td>3</td>\n",
       "            <td>Janet Leverling</td>\n",
       "            <td>202812.84</td>\n",
       "            <td>2</td>\n",
       "        </tr>\n",
       "        <tr>\n",
       "            <td>1</td>\n",
       "            <td>Nancy Davolio</td>\n",
       "            <td>192107.6</td>\n",
       "            <td>3</td>\n",
       "        </tr>\n",
       "        <tr>\n",
       "            <td>2</td>\n",
       "            <td>Andrew Fuller</td>\n",
       "            <td>166537.76</td>\n",
       "            <td>4</td>\n",
       "        </tr>\n",
       "        <tr>\n",
       "            <td>8</td>\n",
       "            <td>Laura Callahan</td>\n",
       "            <td>126862.28</td>\n",
       "            <td>5</td>\n",
       "        </tr>\n",
       "        <tr>\n",
       "            <td>7</td>\n",
       "            <td>Robert King</td>\n",
       "            <td>124568.24</td>\n",
       "            <td>6</td>\n",
       "        </tr>\n",
       "        <tr>\n",
       "            <td>9</td>\n",
       "            <td>Anne Dodsworth</td>\n",
       "            <td>77308.07</td>\n",
       "            <td>7</td>\n",
       "        </tr>\n",
       "        <tr>\n",
       "            <td>6</td>\n",
       "            <td>Michael Suyama</td>\n",
       "            <td>73913.13</td>\n",
       "            <td>8</td>\n",
       "        </tr>\n",
       "        <tr>\n",
       "            <td>5</td>\n",
       "            <td>Steven Buchanan</td>\n",
       "            <td>68792.28</td>\n",
       "            <td>9</td>\n",
       "        </tr>\n",
       "    </tbody>\n",
       "</table>"
      ],
      "text/plain": [
       "[(4, 'Margaret Peacock', 232890.85, 1),\n",
       " (3, 'Janet Leverling', 202812.84, 2),\n",
       " (1, 'Nancy Davolio', 192107.6, 3),\n",
       " (2, 'Andrew Fuller', 166537.76, 4),\n",
       " (8, 'Laura Callahan', 126862.28, 5),\n",
       " (7, 'Robert King', 124568.24, 6),\n",
       " (9, 'Anne Dodsworth', 77308.07, 7),\n",
       " (6, 'Michael Suyama', 73913.13, 8),\n",
       " (5, 'Steven Buchanan', 68792.28, 9)]"
      ]
     },
     "execution_count": 10,
     "metadata": {},
     "output_type": "execute_result"
    }
   ],
   "source": [
    "%%sql\n",
    "WITH total_sales_by_employee AS(\n",
    "  SELECT e.employee_id, \n",
    "         e.employee_name,\n",
    "         ROUND(SUM(od.quantity * od.unit_price * (1-od.discount)), 2) AS total_sales\n",
    "    FROM employee_orders AS e\n",
    "    JOIN order_details AS od\n",
    "      ON e.order_id = od.order_id\n",
    "   GROUP BY e.employee_id, e.employee_name\n",
    ")\n",
    "\n",
    "SELECT employee_id AS \"Emp ID\", \n",
    "       employee_name AS \"Emp Name\",\n",
    "       total_sales AS \"Total Sales\",\n",
    "       RANK() OVER(ORDER BY total_sales DESC) AS \"Sales Rank\"\n",
    "  FROM total_sales_by_employee;"
   ]
  },
  {
   "cell_type": "markdown",
   "id": "79e5e668",
   "metadata": {},
   "source": [
    "Based on the above table, `Margaret Peacock` is the top rank employee in regards to total sales with $232,890.85 in total sales.\n",
    "\n",
    "Conversely, the table also shows `Steven Buchanan` has having the least amount of sales among all the employees with a total sales of $68,792.28.\n"
   ]
  },
  {
   "cell_type": "markdown",
   "id": "65846913",
   "metadata": {},
   "source": [
    "## Running Total of Monthly Sales\n"
   ]
  },
  {
   "cell_type": "markdown",
   "id": "4b59baad",
   "metadata": {},
   "source": [
    "Creating a running total of sales by month will provide a more macro-level perspective around the company's overall sales performance over time, which will help management identify trends that might shape the company's future strategies.\n"
   ]
  },
  {
   "cell_type": "markdown",
   "id": "1b3cb252",
   "metadata": {},
   "source": [
    "For this analysis task, the `orders` and `order_details` tables will be needed. Luckily, a view combining these tables was created earlier, the `detailed_orders` view.\n",
    "\n",
    "The following query creates a CTE called `monthly_sales` calculates the total sales per month using the `quantity`, `unit_price`, `discount`, and `order_date` columns from the `detailed_orders` view.\n",
    "\n",
    "A second query uses the CTE to calculate a running total of total sales per month.\n"
   ]
  },
  {
   "cell_type": "code",
   "execution_count": 11,
   "id": "da01982f",
   "metadata": {},
   "outputs": [
    {
     "name": "stdout",
     "output_type": "stream",
     "text": [
      " * sqlite:///arborfoods.db\n",
      "Done.\n"
     ]
    },
    {
     "data": {
      "text/html": [
       "<table>\n",
       "    <thead>\n",
       "        <tr>\n",
       "            <th>Month</th>\n",
       "            <th>Running Total</th>\n",
       "        </tr>\n",
       "    </thead>\n",
       "    <tbody>\n",
       "        <tr>\n",
       "            <td>1996-07</td>\n",
       "            <td>27861.9</td>\n",
       "        </tr>\n",
       "        <tr>\n",
       "            <td>1996-08</td>\n",
       "            <td>53347.18</td>\n",
       "        </tr>\n",
       "        <tr>\n",
       "            <td>1996-09</td>\n",
       "            <td>79728.58</td>\n",
       "        </tr>\n",
       "        <tr>\n",
       "            <td>1996-10</td>\n",
       "            <td>117244.3</td>\n",
       "        </tr>\n",
       "        <tr>\n",
       "            <td>1996-11</td>\n",
       "            <td>162844.34</td>\n",
       "        </tr>\n",
       "        <tr>\n",
       "            <td>1996-12</td>\n",
       "            <td>208083.97</td>\n",
       "        </tr>\n",
       "        <tr>\n",
       "            <td>1997-01</td>\n",
       "            <td>269342.04</td>\n",
       "        </tr>\n",
       "        <tr>\n",
       "            <td>1997-02</td>\n",
       "            <td>307825.68</td>\n",
       "        </tr>\n",
       "        <tr>\n",
       "            <td>1997-03</td>\n",
       "            <td>346372.9</td>\n",
       "        </tr>\n",
       "        <tr>\n",
       "            <td>1997-04</td>\n",
       "            <td>399405.85</td>\n",
       "        </tr>\n",
       "        <tr>\n",
       "            <td>1997-05</td>\n",
       "            <td>453187.14</td>\n",
       "        </tr>\n",
       "        <tr>\n",
       "            <td>1997-06</td>\n",
       "            <td>489549.94</td>\n",
       "        </tr>\n",
       "        <tr>\n",
       "            <td>1997-07</td>\n",
       "            <td>540570.8</td>\n",
       "        </tr>\n",
       "        <tr>\n",
       "            <td>1997-08</td>\n",
       "            <td>587858.47</td>\n",
       "        </tr>\n",
       "        <tr>\n",
       "            <td>1997-09</td>\n",
       "            <td>643487.71</td>\n",
       "        </tr>\n",
       "        <tr>\n",
       "            <td>1997-10</td>\n",
       "            <td>710236.94</td>\n",
       "        </tr>\n",
       "        <tr>\n",
       "            <td>1997-11</td>\n",
       "            <td>753770.75</td>\n",
       "        </tr>\n",
       "        <tr>\n",
       "            <td>1997-12</td>\n",
       "            <td>825169.1799999999</td>\n",
       "        </tr>\n",
       "        <tr>\n",
       "            <td>1998-01</td>\n",
       "            <td>919391.29</td>\n",
       "        </tr>\n",
       "        <tr>\n",
       "            <td>1998-02</td>\n",
       "            <td>1018806.58</td>\n",
       "        </tr>\n",
       "        <tr>\n",
       "            <td>1998-03</td>\n",
       "            <td>1123660.73</td>\n",
       "        </tr>\n",
       "        <tr>\n",
       "            <td>1998-04</td>\n",
       "            <td>1247459.41</td>\n",
       "        </tr>\n",
       "        <tr>\n",
       "            <td>1998-05</td>\n",
       "            <td>1265793.04</td>\n",
       "        </tr>\n",
       "    </tbody>\n",
       "</table>"
      ],
      "text/plain": [
       "[('1996-07', 27861.9),\n",
       " ('1996-08', 53347.18),\n",
       " ('1996-09', 79728.58),\n",
       " ('1996-10', 117244.3),\n",
       " ('1996-11', 162844.34),\n",
       " ('1996-12', 208083.97),\n",
       " ('1997-01', 269342.04),\n",
       " ('1997-02', 307825.68),\n",
       " ('1997-03', 346372.9),\n",
       " ('1997-04', 399405.85),\n",
       " ('1997-05', 453187.14),\n",
       " ('1997-06', 489549.94),\n",
       " ('1997-07', 540570.8),\n",
       " ('1997-08', 587858.47),\n",
       " ('1997-09', 643487.71),\n",
       " ('1997-10', 710236.94),\n",
       " ('1997-11', 753770.75),\n",
       " ('1997-12', 825169.1799999999),\n",
       " ('1998-01', 919391.29),\n",
       " ('1998-02', 1018806.58),\n",
       " ('1998-03', 1123660.73),\n",
       " ('1998-04', 1247459.41),\n",
       " ('1998-05', 1265793.04)]"
      ]
     },
     "execution_count": 11,
     "metadata": {},
     "output_type": "execute_result"
    }
   ],
   "source": [
    "%%sql\n",
    "WITH monthly_sales AS(\n",
    "    SELECT strftime('%Y-%m', order_date) AS month,\n",
    "           Round(SUM(unit_price * quantity * (1 - discount)), 2) AS total_sales\n",
    "      FROM detailed_orders\n",
    "     GROUP BY strftime('%Y-%m', order_date)\n",
    ")\n",
    "\n",
    "SELECT month AS \"Month\",\n",
    "       SUM(total_sales) OVER(ORDER BY month) AS \"Running Total\"\n",
    "  FROM monthly_sales\n",
    " ORDER BY month;\n"
   ]
  },
  {
   "cell_type": "markdown",
   "id": "6f86b561",
   "metadata": {},
   "source": [
    "## Month-Over-Month Sales Growth\n"
   ]
  },
  {
   "cell_type": "markdown",
   "id": "950e853b",
   "metadata": {},
   "source": [
    "Analyzing the month-over-month sales growth rate will provide a better understanding of the rate at which sales are increasing or decreasing, and will help the management team to identify significant trends.\n"
   ]
  },
  {
   "cell_type": "markdown",
   "id": "393b9e4a",
   "metadata": {},
   "source": [
    "The following query will compare each month's sales with the previous month's, then calculate the percentage change in sales.\n"
   ]
  },
  {
   "cell_type": "code",
   "execution_count": 12,
   "id": "21879afd",
   "metadata": {},
   "outputs": [
    {
     "name": "stdout",
     "output_type": "stream",
     "text": [
      " * sqlite:///arborfoods.db\n",
      "Done.\n"
     ]
    },
    {
     "data": {
      "text/html": [
       "<table>\n",
       "    <thead>\n",
       "        <tr>\n",
       "            <th>Year</th>\n",
       "            <th>Month</th>\n",
       "            <th>Monthly Sales</th>\n",
       "            <th>Previous Month Sales</th>\n",
       "            <th>Sales Growth Rate</th>\n",
       "        </tr>\n",
       "    </thead>\n",
       "    <tbody>\n",
       "        <tr>\n",
       "            <td>1996</td>\n",
       "            <td>07</td>\n",
       "            <td>27861.9</td>\n",
       "            <td>None</td>\n",
       "            <td>None</td>\n",
       "        </tr>\n",
       "        <tr>\n",
       "            <td>1996</td>\n",
       "            <td>08</td>\n",
       "            <td>25485.28</td>\n",
       "            <td>27861.9</td>\n",
       "            <td>-8.53</td>\n",
       "        </tr>\n",
       "        <tr>\n",
       "            <td>1996</td>\n",
       "            <td>09</td>\n",
       "            <td>26381.4</td>\n",
       "            <td>25485.28</td>\n",
       "            <td>3.52</td>\n",
       "        </tr>\n",
       "        <tr>\n",
       "            <td>1996</td>\n",
       "            <td>10</td>\n",
       "            <td>37515.72</td>\n",
       "            <td>26381.4</td>\n",
       "            <td>42.21</td>\n",
       "        </tr>\n",
       "        <tr>\n",
       "            <td>1996</td>\n",
       "            <td>11</td>\n",
       "            <td>45600.04</td>\n",
       "            <td>37515.72</td>\n",
       "            <td>21.55</td>\n",
       "        </tr>\n",
       "        <tr>\n",
       "            <td>1996</td>\n",
       "            <td>12</td>\n",
       "            <td>45239.63</td>\n",
       "            <td>45600.04</td>\n",
       "            <td>-0.79</td>\n",
       "        </tr>\n",
       "        <tr>\n",
       "            <td>1997</td>\n",
       "            <td>01</td>\n",
       "            <td>61258.07</td>\n",
       "            <td>45239.63</td>\n",
       "            <td>35.41</td>\n",
       "        </tr>\n",
       "        <tr>\n",
       "            <td>1997</td>\n",
       "            <td>02</td>\n",
       "            <td>38483.64</td>\n",
       "            <td>61258.07</td>\n",
       "            <td>-37.18</td>\n",
       "        </tr>\n",
       "        <tr>\n",
       "            <td>1997</td>\n",
       "            <td>03</td>\n",
       "            <td>38547.22</td>\n",
       "            <td>38483.64</td>\n",
       "            <td>0.17</td>\n",
       "        </tr>\n",
       "        <tr>\n",
       "            <td>1997</td>\n",
       "            <td>04</td>\n",
       "            <td>53032.95</td>\n",
       "            <td>38547.22</td>\n",
       "            <td>37.58</td>\n",
       "        </tr>\n",
       "        <tr>\n",
       "            <td>1997</td>\n",
       "            <td>05</td>\n",
       "            <td>53781.29</td>\n",
       "            <td>53032.95</td>\n",
       "            <td>1.41</td>\n",
       "        </tr>\n",
       "        <tr>\n",
       "            <td>1997</td>\n",
       "            <td>06</td>\n",
       "            <td>36362.8</td>\n",
       "            <td>53781.29</td>\n",
       "            <td>-32.39</td>\n",
       "        </tr>\n",
       "        <tr>\n",
       "            <td>1997</td>\n",
       "            <td>07</td>\n",
       "            <td>51020.86</td>\n",
       "            <td>36362.8</td>\n",
       "            <td>40.31</td>\n",
       "        </tr>\n",
       "        <tr>\n",
       "            <td>1997</td>\n",
       "            <td>08</td>\n",
       "            <td>47287.67</td>\n",
       "            <td>51020.86</td>\n",
       "            <td>-7.32</td>\n",
       "        </tr>\n",
       "        <tr>\n",
       "            <td>1997</td>\n",
       "            <td>09</td>\n",
       "            <td>55629.24</td>\n",
       "            <td>47287.67</td>\n",
       "            <td>17.64</td>\n",
       "        </tr>\n",
       "        <tr>\n",
       "            <td>1997</td>\n",
       "            <td>10</td>\n",
       "            <td>66749.23</td>\n",
       "            <td>55629.24</td>\n",
       "            <td>19.99</td>\n",
       "        </tr>\n",
       "        <tr>\n",
       "            <td>1997</td>\n",
       "            <td>11</td>\n",
       "            <td>43533.81</td>\n",
       "            <td>66749.23</td>\n",
       "            <td>-34.78</td>\n",
       "        </tr>\n",
       "        <tr>\n",
       "            <td>1997</td>\n",
       "            <td>12</td>\n",
       "            <td>71398.43</td>\n",
       "            <td>43533.81</td>\n",
       "            <td>64.01</td>\n",
       "        </tr>\n",
       "        <tr>\n",
       "            <td>1998</td>\n",
       "            <td>01</td>\n",
       "            <td>94222.11</td>\n",
       "            <td>71398.43</td>\n",
       "            <td>31.97</td>\n",
       "        </tr>\n",
       "        <tr>\n",
       "            <td>1998</td>\n",
       "            <td>02</td>\n",
       "            <td>99415.29</td>\n",
       "            <td>94222.11</td>\n",
       "            <td>5.51</td>\n",
       "        </tr>\n",
       "        <tr>\n",
       "            <td>1998</td>\n",
       "            <td>03</td>\n",
       "            <td>104854.15</td>\n",
       "            <td>99415.29</td>\n",
       "            <td>5.47</td>\n",
       "        </tr>\n",
       "        <tr>\n",
       "            <td>1998</td>\n",
       "            <td>04</td>\n",
       "            <td>123798.68</td>\n",
       "            <td>104854.15</td>\n",
       "            <td>18.07</td>\n",
       "        </tr>\n",
       "        <tr>\n",
       "            <td>1998</td>\n",
       "            <td>05</td>\n",
       "            <td>18333.63</td>\n",
       "            <td>123798.68</td>\n",
       "            <td>-85.19</td>\n",
       "        </tr>\n",
       "    </tbody>\n",
       "</table>"
      ],
      "text/plain": [
       "[('1996', '07', 27861.9, None, None),\n",
       " ('1996', '08', 25485.28, 27861.9, -8.53),\n",
       " ('1996', '09', 26381.4, 25485.28, 3.52),\n",
       " ('1996', '10', 37515.72, 26381.4, 42.21),\n",
       " ('1996', '11', 45600.04, 37515.72, 21.55),\n",
       " ('1996', '12', 45239.63, 45600.04, -0.79),\n",
       " ('1997', '01', 61258.07, 45239.63, 35.41),\n",
       " ('1997', '02', 38483.64, 61258.07, -37.18),\n",
       " ('1997', '03', 38547.22, 38483.64, 0.17),\n",
       " ('1997', '04', 53032.95, 38547.22, 37.58),\n",
       " ('1997', '05', 53781.29, 53032.95, 1.41),\n",
       " ('1997', '06', 36362.8, 53781.29, -32.39),\n",
       " ('1997', '07', 51020.86, 36362.8, 40.31),\n",
       " ('1997', '08', 47287.67, 51020.86, -7.32),\n",
       " ('1997', '09', 55629.24, 47287.67, 17.64),\n",
       " ('1997', '10', 66749.23, 55629.24, 19.99),\n",
       " ('1997', '11', 43533.81, 66749.23, -34.78),\n",
       " ('1997', '12', 71398.43, 43533.81, 64.01),\n",
       " ('1998', '01', 94222.11, 71398.43, 31.97),\n",
       " ('1998', '02', 99415.29, 94222.11, 5.51),\n",
       " ('1998', '03', 104854.15, 99415.29, 5.47),\n",
       " ('1998', '04', 123798.68, 104854.15, 18.07),\n",
       " ('1998', '05', 18333.63, 123798.68, -85.19)]"
      ]
     },
     "execution_count": 12,
     "metadata": {},
     "output_type": "execute_result"
    }
   ],
   "source": [
    "%%sql\n",
    "WITH monthly_sales AS(\n",
    "    SELECT strftime('%m', order_date) AS month,\n",
    "           strftime('%Y', order_date) AS year,\n",
    "           ROUND(SUM(unit_price * quantity * (1 - discount)), 2) AS total_sales\n",
    "      FROM detailed_orders\n",
    "     GROUP BY year, month\n",
    "),\n",
    "\n",
    "previous_sales AS(\n",
    "    SELECT month,\n",
    "           year,\n",
    "           total_sales,\n",
    "           LAG(total_sales) OVER(ORDER BY year, month) AS previous_month_sales\n",
    "      FROM monthly_sales\n",
    ")\n",
    "\n",
    "SELECT year AS \"Year\",\n",
    "       month AS \"Month\",\n",
    "       total_sales AS \"Monthly Sales\",\n",
    "       previous_month_sales AS \"Previous Month Sales\",\n",
    "       ROUND((total_sales / previous_month_sales - 1) * 100, 2) AS \"Sales Growth Rate\"\n",
    "  FROM previous_sales;"
   ]
  },
  {
   "cell_type": "markdown",
   "id": "b0aafa66",
   "metadata": {},
   "source": [
    "## Identifying High-Value Customers\n"
   ]
  },
  {
   "cell_type": "markdown",
   "id": "d35411ac",
   "metadata": {},
   "source": [
    "Offering targeted promotions and special offers to customers with above-average order values could lead to an increase in sales, improved customer retention, and attract new customers.\n"
   ]
  },
  {
   "cell_type": "markdown",
   "id": "2bcd9f14",
   "metadata": {},
   "source": [
    "The following query joins the `customer_orders` view with the `order_details` table into a CTE called `customer_sales` which calculates the sale amount for each order.\n",
    "\n",
    "Another CTE called `labeld_sales` uses the `customer_sales` CTE to calculate the average sale amount per customer.\n",
    "\n",
    "A third and final CTE called `above_avg_counts` counts the number of above average purchases per customer.\n",
    "\n",
    "The final query uses the `above_avg_counts` CTE to rank all of the customers based on how many above-average orders they have made. The final output has been truncated to only show the top 10 companies.\n"
   ]
  },
  {
   "cell_type": "code",
   "execution_count": 13,
   "id": "3d2e9755",
   "metadata": {},
   "outputs": [
    {
     "name": "stdout",
     "output_type": "stream",
     "text": [
      " * sqlite:///arborfoods.db\n",
      "Done.\n"
     ]
    },
    {
     "data": {
      "text/html": [
       "<table>\n",
       "    <thead>\n",
       "        <tr>\n",
       "            <th>Customer ID</th>\n",
       "            <th>Above-Average Orders</th>\n",
       "            <th>Rank</th>\n",
       "        </tr>\n",
       "    </thead>\n",
       "    <tbody>\n",
       "        <tr>\n",
       "            <td>SAVEA</td>\n",
       "            <td>40</td>\n",
       "            <td>1</td>\n",
       "        </tr>\n",
       "        <tr>\n",
       "            <td>ERNSH</td>\n",
       "            <td>34</td>\n",
       "            <td>2</td>\n",
       "        </tr>\n",
       "        <tr>\n",
       "            <td>QUICK</td>\n",
       "            <td>28</td>\n",
       "            <td>3</td>\n",
       "        </tr>\n",
       "        <tr>\n",
       "            <td>BONAP</td>\n",
       "            <td>19</td>\n",
       "            <td>4</td>\n",
       "        </tr>\n",
       "        <tr>\n",
       "            <td>FRANK</td>\n",
       "            <td>19</td>\n",
       "            <td>4</td>\n",
       "        </tr>\n",
       "        <tr>\n",
       "            <td>RATTC</td>\n",
       "            <td>17</td>\n",
       "            <td>6</td>\n",
       "        </tr>\n",
       "        <tr>\n",
       "            <td>HILAA</td>\n",
       "            <td>16</td>\n",
       "            <td>7</td>\n",
       "        </tr>\n",
       "        <tr>\n",
       "            <td>BOTTM</td>\n",
       "            <td>15</td>\n",
       "            <td>8</td>\n",
       "        </tr>\n",
       "        <tr>\n",
       "            <td>HUNGO</td>\n",
       "            <td>14</td>\n",
       "            <td>9</td>\n",
       "        </tr>\n",
       "        <tr>\n",
       "            <td>KOENE</td>\n",
       "            <td>14</td>\n",
       "            <td>9</td>\n",
       "        </tr>\n",
       "    </tbody>\n",
       "</table>"
      ],
      "text/plain": [
       "[('SAVEA', 40, 1),\n",
       " ('ERNSH', 34, 2),\n",
       " ('QUICK', 28, 3),\n",
       " ('BONAP', 19, 4),\n",
       " ('FRANK', 19, 4),\n",
       " ('RATTC', 17, 6),\n",
       " ('HILAA', 16, 7),\n",
       " ('BOTTM', 15, 8),\n",
       " ('HUNGO', 14, 9),\n",
       " ('KOENE', 14, 9)]"
      ]
     },
     "execution_count": 13,
     "metadata": {},
     "output_type": "execute_result"
    }
   ],
   "source": [
    "%%sql\n",
    "WITH customer_sales AS(\n",
    "    SELECT c.customer_id,\n",
    "           (od.quantity * od.unit_price * (1 - od.discount)) AS sale_amount\n",
    "      FROM customer_orders AS c\n",
    "      JOIN order_details AS od\n",
    "        ON c.order_id = od.order_id\n",
    "),\n",
    "\n",
    "labled_sales AS (\n",
    "    SELECT customer_id,\n",
    "           sale_amount,\n",
    "           AVG(sale_amount) OVER(PARTITION BY customer_id) AS avg_sale\n",
    "      FROM customer_sales\n",
    "),\n",
    "\n",
    "above_avg_counts AS (\n",
    "    SELECT customer_id,\n",
    "           COUNT(*) FILTER(WHERE sale_amount > avg_sale) AS above_avg_count\n",
    "      FROM labled_sales\n",
    "     GROUP BY customer_id\n",
    ")\n",
    "\n",
    "SELECT customer_id AS \"Customer ID\",\n",
    "       above_avg_count \"Above-Average Orders\",\n",
    "       RANK() OVER(ORDER BY above_avg_count DESC) AS \"Rank\"\n",
    "  FROM above_avg_counts\n",
    " LIMIT 10;"
   ]
  },
  {
   "cell_type": "markdown",
   "id": "1123a851",
   "metadata": {},
   "source": [
    "From the output above we can see the top 10 companies with the highest amount of above-average order values. The customer `SAVEA` is at the top of the list with 40 above-average orders.\n"
   ]
  },
  {
   "cell_type": "markdown",
   "id": "f9f76469",
   "metadata": {},
   "source": [
    "## Percentage of Sales for Each Category\n"
   ]
  },
  {
   "cell_type": "markdown",
   "id": "71d39b63",
   "metadata": {},
   "source": [
    "By knowing the percentage of total sales for each product category, management will have better insights into which categories drive most of the company's sales. This will help guide decisions about inventory and marketing strategies.\n"
   ]
  },
  {
   "cell_type": "markdown",
   "id": "4cbd0dd8",
   "metadata": {},
   "source": [
    "The first below creates a CTE called `sales_per_category` which calculates the sale amount for each product category.\n",
    "\n",
    "The second query outputs the IDs, names, and percentage of sales for each category.\n"
   ]
  },
  {
   "cell_type": "code",
   "execution_count": 14,
   "id": "421ca782",
   "metadata": {},
   "outputs": [
    {
     "name": "stdout",
     "output_type": "stream",
     "text": [
      " * sqlite:///arborfoods.db\n",
      "Done.\n"
     ]
    },
    {
     "data": {
      "text/html": [
       "<table>\n",
       "    <thead>\n",
       "        <tr>\n",
       "            <th>Category ID</th>\n",
       "            <th>Category Name</th>\n",
       "            <th>% Total Sales</th>\n",
       "        </tr>\n",
       "    </thead>\n",
       "    <tbody>\n",
       "        <tr>\n",
       "            <td>1</td>\n",
       "            <td>Beverages</td>\n",
       "            <td>21.2</td>\n",
       "        </tr>\n",
       "        <tr>\n",
       "            <td>4</td>\n",
       "            <td>Dairy Products</td>\n",
       "            <td>18.5</td>\n",
       "        </tr>\n",
       "        <tr>\n",
       "            <td>3</td>\n",
       "            <td>Confections</td>\n",
       "            <td>13.2</td>\n",
       "        </tr>\n",
       "        <tr>\n",
       "            <td>6</td>\n",
       "            <td>Meat/Poultry</td>\n",
       "            <td>12.9</td>\n",
       "        </tr>\n",
       "        <tr>\n",
       "            <td>8</td>\n",
       "            <td>Seafood</td>\n",
       "            <td>10.4</td>\n",
       "        </tr>\n",
       "        <tr>\n",
       "            <td>2</td>\n",
       "            <td>Condiments</td>\n",
       "            <td>8.4</td>\n",
       "        </tr>\n",
       "        <tr>\n",
       "            <td>7</td>\n",
       "            <td>Produce</td>\n",
       "            <td>7.9</td>\n",
       "        </tr>\n",
       "        <tr>\n",
       "            <td>5</td>\n",
       "            <td>Grains/Cereals</td>\n",
       "            <td>7.6</td>\n",
       "        </tr>\n",
       "    </tbody>\n",
       "</table>"
      ],
      "text/plain": [
       "[(1, 'Beverages', 21.2),\n",
       " (4, 'Dairy Products', 18.5),\n",
       " (3, 'Confections', 13.2),\n",
       " (6, 'Meat/Poultry', 12.9),\n",
       " (8, 'Seafood', 10.4),\n",
       " (2, 'Condiments', 8.4),\n",
       " (7, 'Produce', 7.9),\n",
       " (5, 'Grains/Cereals', 7.6)]"
      ]
     },
     "execution_count": 14,
     "metadata": {},
     "output_type": "execute_result"
    }
   ],
   "source": [
    "%%sql\n",
    "WITH sales_per_category AS (\n",
    "    SELECT c.category_id,\n",
    "           c.category_name,\n",
    "           SUM(od.unit_price * od.quantity * (1 - od.discount)) AS sales_amount\n",
    "      FROM categories AS c\n",
    "      JOIN products AS p\n",
    "        ON c.category_id = p.category_id\n",
    "      JOIN order_details AS od\n",
    "        ON p.product_id = od.product_id\n",
    "    GROUP BY c.category_id\n",
    ")\n",
    "\n",
    "SELECT category_id AS \"Category ID\",\n",
    "       category_name AS \"Category Name\",\n",
    "       ROUND(((sales_amount / SUM(sales_amount) OVER(ROWS BETWEEN UNBOUNDED PRECEDING AND UNBOUNDED FOLLOWING)) * 100), 1) AS \"% Total Sales\"\n",
    "  FROM sales_per_category\n",
    " ORDER BY \"% Total Sales\" DESC;"
   ]
  },
  {
   "cell_type": "markdown",
   "id": "3f323f30",
   "metadata": {},
   "source": [
    "From the above table, the `Beverages` category makes up the most of the company's total sales at about 21.2%. `Grains/Cereals` and `Produce` make up the least of the company's sales making up about 7.6% and 7.9% of all sales, respectively.\n"
   ]
  },
  {
   "cell_type": "markdown",
   "id": "f5b59a59",
   "metadata": {},
   "source": [
    "## Top Products Per Category\n"
   ]
  },
  {
   "cell_type": "markdown",
   "id": "d8515757",
   "metadata": {},
   "source": [
    "The final objective will be to provide management with a list of the top three items sold in each product category, which will allow them to identify top performers and to ensure these products are kept in stock.\n"
   ]
  },
  {
   "cell_type": "markdown",
   "id": "75451f4a",
   "metadata": {},
   "source": [
    "The first query below creates a CTE called `product_sales` that calculates the total sales for each product.\n",
    "\n",
    "The second query outputs the top three products from each category based on their total sales.\n"
   ]
  },
  {
   "cell_type": "code",
   "execution_count": 15,
   "id": "20f40663",
   "metadata": {},
   "outputs": [
    {
     "name": "stdout",
     "output_type": "stream",
     "text": [
      " * sqlite:///arborfoods.db\n",
      "Done.\n"
     ]
    },
    {
     "data": {
      "text/html": [
       "<table>\n",
       "    <thead>\n",
       "        <tr>\n",
       "            <th>Category ID</th>\n",
       "            <th>Product ID</th>\n",
       "            <th>Product Name</th>\n",
       "            <th>Total Sales</th>\n",
       "        </tr>\n",
       "    </thead>\n",
       "    <tbody>\n",
       "        <tr>\n",
       "            <td>1</td>\n",
       "            <td>38</td>\n",
       "            <td>Côte de Blaye</td>\n",
       "            <td>141396.73</td>\n",
       "        </tr>\n",
       "        <tr>\n",
       "            <td>1</td>\n",
       "            <td>43</td>\n",
       "            <td>Ipoh Coffee</td>\n",
       "            <td>23526.7</td>\n",
       "        </tr>\n",
       "        <tr>\n",
       "            <td>1</td>\n",
       "            <td>2</td>\n",
       "            <td>Chang</td>\n",
       "            <td>16355.96</td>\n",
       "        </tr>\n",
       "        <tr>\n",
       "            <td>2</td>\n",
       "            <td>63</td>\n",
       "            <td>Vegie-spread</td>\n",
       "            <td>16701.1</td>\n",
       "        </tr>\n",
       "        <tr>\n",
       "            <td>2</td>\n",
       "            <td>61</td>\n",
       "            <td>Sirop d&#x27;érable</td>\n",
       "            <td>14352.6</td>\n",
       "        </tr>\n",
       "        <tr>\n",
       "            <td>2</td>\n",
       "            <td>65</td>\n",
       "            <td>Louisiana Fiery Hot Pepper Sauce</td>\n",
       "            <td>13869.89</td>\n",
       "        </tr>\n",
       "        <tr>\n",
       "            <td>3</td>\n",
       "            <td>62</td>\n",
       "            <td>Tarte au sucre</td>\n",
       "            <td>47234.97</td>\n",
       "        </tr>\n",
       "        <tr>\n",
       "            <td>3</td>\n",
       "            <td>20</td>\n",
       "            <td>Sir Rodney&#x27;s Marmalade</td>\n",
       "            <td>22563.36</td>\n",
       "        </tr>\n",
       "        <tr>\n",
       "            <td>3</td>\n",
       "            <td>26</td>\n",
       "            <td>Gumbär Gummibärchen</td>\n",
       "            <td>19849.14</td>\n",
       "        </tr>\n",
       "        <tr>\n",
       "            <td>4</td>\n",
       "            <td>59</td>\n",
       "            <td>Raclette Courdavault</td>\n",
       "            <td>71155.7</td>\n",
       "        </tr>\n",
       "        <tr>\n",
       "            <td>4</td>\n",
       "            <td>60</td>\n",
       "            <td>Camembert Pierrot</td>\n",
       "            <td>46825.48</td>\n",
       "        </tr>\n",
       "        <tr>\n",
       "            <td>4</td>\n",
       "            <td>72</td>\n",
       "            <td>Mozzarella di Giovanni</td>\n",
       "            <td>24900.13</td>\n",
       "        </tr>\n",
       "        <tr>\n",
       "            <td>5</td>\n",
       "            <td>56</td>\n",
       "            <td>Gnocchi di nonna Alice</td>\n",
       "            <td>42593.06</td>\n",
       "        </tr>\n",
       "        <tr>\n",
       "            <td>5</td>\n",
       "            <td>64</td>\n",
       "            <td>Wimmers gute Semmelknödel</td>\n",
       "            <td>21957.97</td>\n",
       "        </tr>\n",
       "        <tr>\n",
       "            <td>5</td>\n",
       "            <td>42</td>\n",
       "            <td>Singaporean Hokkien Fried Mee</td>\n",
       "            <td>8575.0</td>\n",
       "        </tr>\n",
       "        <tr>\n",
       "            <td>6</td>\n",
       "            <td>29</td>\n",
       "            <td>Thüringer Rostbratwurst</td>\n",
       "            <td>80368.67</td>\n",
       "        </tr>\n",
       "        <tr>\n",
       "            <td>6</td>\n",
       "            <td>17</td>\n",
       "            <td>Alice Mutton</td>\n",
       "            <td>32698.38</td>\n",
       "        </tr>\n",
       "        <tr>\n",
       "            <td>6</td>\n",
       "            <td>53</td>\n",
       "            <td>Perth Pasties</td>\n",
       "            <td>20574.17</td>\n",
       "        </tr>\n",
       "        <tr>\n",
       "            <td>7</td>\n",
       "            <td>51</td>\n",
       "            <td>Manjimup Dried Apples</td>\n",
       "            <td>41819.65</td>\n",
       "        </tr>\n",
       "        <tr>\n",
       "            <td>7</td>\n",
       "            <td>28</td>\n",
       "            <td>Rössle Sauerkraut</td>\n",
       "            <td>25696.64</td>\n",
       "        </tr>\n",
       "        <tr>\n",
       "            <td>7</td>\n",
       "            <td>7</td>\n",
       "            <td>Uncle Bob&#x27;s Organic Dried Pears</td>\n",
       "            <td>22044.3</td>\n",
       "        </tr>\n",
       "        <tr>\n",
       "            <td>8</td>\n",
       "            <td>18</td>\n",
       "            <td>Carnarvon Tigers</td>\n",
       "            <td>29171.88</td>\n",
       "        </tr>\n",
       "        <tr>\n",
       "            <td>8</td>\n",
       "            <td>10</td>\n",
       "            <td>Ikura</td>\n",
       "            <td>20867.34</td>\n",
       "        </tr>\n",
       "        <tr>\n",
       "            <td>8</td>\n",
       "            <td>40</td>\n",
       "            <td>Boston Crab Meat</td>\n",
       "            <td>17910.63</td>\n",
       "        </tr>\n",
       "    </tbody>\n",
       "</table>"
      ],
      "text/plain": [
       "[(1, 38, 'Côte de Blaye', 141396.73),\n",
       " (1, 43, 'Ipoh Coffee', 23526.7),\n",
       " (1, 2, 'Chang', 16355.96),\n",
       " (2, 63, 'Vegie-spread', 16701.1),\n",
       " (2, 61, \"Sirop d'érable\", 14352.6),\n",
       " (2, 65, 'Louisiana Fiery Hot Pepper Sauce', 13869.89),\n",
       " (3, 62, 'Tarte au sucre', 47234.97),\n",
       " (3, 20, \"Sir Rodney's Marmalade\", 22563.36),\n",
       " (3, 26, 'Gumbär Gummibärchen', 19849.14),\n",
       " (4, 59, 'Raclette Courdavault', 71155.7),\n",
       " (4, 60, 'Camembert Pierrot', 46825.48),\n",
       " (4, 72, 'Mozzarella di Giovanni', 24900.13),\n",
       " (5, 56, 'Gnocchi di nonna Alice', 42593.06),\n",
       " (5, 64, 'Wimmers gute Semmelknödel', 21957.97),\n",
       " (5, 42, 'Singaporean Hokkien Fried Mee', 8575.0),\n",
       " (6, 29, 'Thüringer Rostbratwurst', 80368.67),\n",
       " (6, 17, 'Alice Mutton', 32698.38),\n",
       " (6, 53, 'Perth Pasties', 20574.17),\n",
       " (7, 51, 'Manjimup Dried Apples', 41819.65),\n",
       " (7, 28, 'Rössle Sauerkraut', 25696.64),\n",
       " (7, 7, \"Uncle Bob's Organic Dried Pears\", 22044.3),\n",
       " (8, 18, 'Carnarvon Tigers', 29171.88),\n",
       " (8, 10, 'Ikura', 20867.34),\n",
       " (8, 40, 'Boston Crab Meat', 17910.63)]"
      ]
     },
     "execution_count": 15,
     "metadata": {},
     "output_type": "execute_result"
    }
   ],
   "source": [
    "%%sql\n",
    "WITH product_sales AS (\n",
    "    SELECT p.product_name,\n",
    "           p.product_id,\n",
    "           p.category_id,\n",
    "           ROUND(SUM(od.unit_price * od.quantity * (1 - od.discount)), 2) AS total_sales\n",
    "      FROM products AS p\n",
    "      JOIN order_details AS od\n",
    "        ON p.product_id = od.product_id\n",
    "     GROUP BY p.category_id, p.product_id\n",
    ")\n",
    "\n",
    "SELECT category_id AS \"Category ID\",\n",
    "       product_id AS \"Product ID\",\n",
    "       product_name AS \"Product Name\",\n",
    "       total_sales AS \"Total Sales\"\n",
    "  FROM (SELECT category_id,\n",
    "               product_id,\n",
    "               product_name,\n",
    "               total_sales,\n",
    "               ROW_NUMBER() OVER(PARTITION BY category_id ORDER BY total_sales DESC) AS row_num\n",
    "          FROM product_sales\n",
    "       ) AS tmp\n",
    " WHERE row_num <= 3;"
   ]
  }
 ],
 "metadata": {
  "kernelspec": {
   "display_name": ".venv",
   "language": "python",
   "name": "python3"
  },
  "language_info": {
   "codemirror_mode": {
    "name": "ipython",
    "version": 3
   },
   "file_extension": ".py",
   "mimetype": "text/x-python",
   "name": "python",
   "nbconvert_exporter": "python",
   "pygments_lexer": "ipython3",
   "version": "3.12.10"
  }
 },
 "nbformat": 4,
 "nbformat_minor": 5
}
